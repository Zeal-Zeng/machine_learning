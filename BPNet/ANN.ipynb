{
 "cells": [
  {
   "cell_type": "markdown",
   "metadata": {},
   "source": [
    "# 神经网络的简单实现\n",
    "## 前言\n",
    "    人类认识事物的过程似乎是有层次的：先认识事物的整体，再稍微深入各部分，再深入细节。。。。\n",
    "    所以这篇文章会层层深入到能用python写出简单的神经网络\n",
    "    \n",
    "## 所需基础知识\n",
    "    1. 考研数学\n",
    "    2. 简单的python基础\n",
    "    \n",
    "## 概述\n",
    "    神经网络是机器学习算法的一种。大多机器学习算法相当于在制造一个有输入口和输出口的黑盒，目的是给定输入让黑盒输出想要的结果，而内部结构不同就产生去各种不同的算法。\n",
    "    为了到达目的得先让黑盒去发现输入与输出之间存在的不为人知的关系\n",
    "    训练过程：告诉机器你的输入和你想要的输出，黑盒在内部自行调整参数使自己的输出和真实的输出差距变小。"
   ]
  },
  {
   "cell_type": "markdown",
   "metadata": {},
   "source": [
    "## 神经网络长啥样"
   ]
  },
  {
   "cell_type": "code",
   "execution_count": null,
   "metadata": {
    "collapsed": true
   },
   "outputs": [],
   "source": [
    "# encoding: utf-8\n",
    "class ANN():\n",
    "    def training(self, X, Y):\n",
    "        '''训练过程\n",
    "        :param X 输入（行向量组）\n",
    "        :param Y 你想要的输出\n",
    "        '''\n",
    "        pass\n",
    "    \n",
    "    def predict(self, X):\n",
    "        '''预测过程\n",
    "        :param X 给定输入\n",
    "        :return 预测的输出\n",
    "        '''\n",
    "        pass"
   ]
  },
  {
   "cell_type": "code",
   "execution_count": null,
   "metadata": {
    "collapsed": true
   },
   "outputs": [],
   "source": [
    "class BPANN(ANN):\n",
    "    def __init__(self, size):\n",
    "         '''\n",
    "        :param size: list (输入数 隐层数 输出数)\n",
    "        :return:\n",
    "        '''\n",
    "        layer_size = len(size)\n",
    "        self.weight = []\n",
    "        pre_layer_size = size[0]\n",
    "        for current_layer_size in size[1:]:\n",
    "            self.weight.append(2*np.random.random((pre_layer_size+1,current_layer_size))- 1)\n",
    "            pre_layer_size = current_layer_size\n",
    "            \n",
    "    def predict(self,X):\n",
    "        '''\n",
    "        :param X: 每一行代表一个向量\n",
    "        :return: 对Y的预测\n",
    "        '''\n",
    "        temp_x = X\n",
    "        for w in self.weight:\n",
    "            if self.isNeedBias:\n",
    "                temp_x = np.hstack((temp_x,np.ones(( len(temp_x),1 ))))  #加上偏执\n",
    "            temp_x = temp_x.dot(w)#得到和函数\n",
    "            temp_x = sigmoid(temp_x) #激活输出\n",
    "        return temp_x"
   ]
  }
 ],
 "metadata": {
  "kernelspec": {
   "display_name": "Python 3",
   "language": "python",
   "name": "python3"
  },
  "language_info": {
   "codemirror_mode": {
    "name": "ipython",
    "version": 3
   },
   "file_extension": ".py",
   "mimetype": "text/x-python",
   "name": "python",
   "nbconvert_exporter": "python",
   "pygments_lexer": "ipython3",
   "version": "3.5.1"
  }
 },
 "nbformat": 4,
 "nbformat_minor": 0
}
